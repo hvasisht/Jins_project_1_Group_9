{
  "nbformat": 4,
  "nbformat_minor": 0,
  "metadata": {
    "colab": {
      "provenance": []
    },
    "kernelspec": {
      "name": "python3",
      "display_name": "Python 3"
    },
    "language_info": {
      "name": "python"
    }
  },
  "cells": [
    {
      "cell_type": "code",
      "execution_count": null,
      "metadata": {
        "colab": {
          "base_uri": "https://localhost:8080/",
          "height": 88
        },
        "id": "e9mXssONurxY",
        "outputId": "4173e0e6-936e-4217-d8ac-d221736a335f"
      },
      "outputs": [
        {
          "output_type": "stream",
          "name": "stdout",
          "text": [
            "🔎 Reference file 202178.jpg belongs to identity 8945\n"
          ]
        },
        {
          "output_type": "stream",
          "name": "stderr",
          "text": [
            "Copying identity 8945: 100%|██████████| 202599/202599 [00:00<00:00, 236256.52it/s]"
          ]
        },
        {
          "output_type": "stream",
          "name": "stdout",
          "text": [
            "✅ Copied 30 images for identity 8945 to /content/celebrity_8945_images\n"
          ]
        },
        {
          "output_type": "stream",
          "name": "stderr",
          "text": [
            "\n"
          ]
        },
        {
          "output_type": "display_data",
          "data": {
            "text/plain": [
              "<IPython.core.display.Javascript object>"
            ],
            "application/javascript": [
              "\n",
              "    async function download(id, filename, size) {\n",
              "      if (!google.colab.kernel.accessAllowed) {\n",
              "        return;\n",
              "      }\n",
              "      const div = document.createElement('div');\n",
              "      const label = document.createElement('label');\n",
              "      label.textContent = `Downloading \"${filename}\": `;\n",
              "      div.appendChild(label);\n",
              "      const progress = document.createElement('progress');\n",
              "      progress.max = size;\n",
              "      div.appendChild(progress);\n",
              "      document.body.appendChild(div);\n",
              "\n",
              "      const buffers = [];\n",
              "      let downloaded = 0;\n",
              "\n",
              "      const channel = await google.colab.kernel.comms.open(id);\n",
              "      // Send a message to notify the kernel that we're ready.\n",
              "      channel.send({})\n",
              "\n",
              "      for await (const message of channel.messages) {\n",
              "        // Send a message to notify the kernel that we're ready.\n",
              "        channel.send({})\n",
              "        if (message.buffers) {\n",
              "          for (const buffer of message.buffers) {\n",
              "            buffers.push(buffer);\n",
              "            downloaded += buffer.byteLength;\n",
              "            progress.value = downloaded;\n",
              "          }\n",
              "        }\n",
              "      }\n",
              "      const blob = new Blob(buffers, {type: 'application/binary'});\n",
              "      const a = document.createElement('a');\n",
              "      a.href = window.URL.createObjectURL(blob);\n",
              "      a.download = filename;\n",
              "      div.appendChild(a);\n",
              "      a.click();\n",
              "      div.remove();\n",
              "    }\n",
              "  "
            ]
          },
          "metadata": {}
        },
        {
          "output_type": "display_data",
          "data": {
            "text/plain": [
              "<IPython.core.display.Javascript object>"
            ],
            "application/javascript": [
              "download(\"download_bcf9f8ee-c785-4b6e-9b31-6906d33e1319\", \"celebrity_8945_images.zip\", 201455)"
            ]
          },
          "metadata": {}
        }
      ],
      "source": [
        "import os, shutil\n",
        "from tqdm import tqdm\n",
        "from torchvision.datasets import CelebA\n",
        "from google.colab import files\n",
        "\n",
        "# --- Step 1: Load CelebA dataset ---\n",
        "ds = CelebA(root=\"/content/celeba_data\", split=\"all\", target_type=\"identity\", download=True)\n",
        "\n",
        "# CelebA image directory\n",
        "img_dir = os.path.join(ds.root, ds.base_folder, \"img_align_celeba\")\n"
      ]
    },
    {
      "cell_type": "code",
      "source": [
        "# --- Step 2: Map reference image number to identity ---\n",
        "reference_index = 202178     # the image number\n",
        "ref_fname = f\"{reference_index:06d}.jpg\"  # zero-padded filename, e.g., \"202159.jpg\"\n",
        "\n",
        "try:\n",
        "    idx = ds.filename.index(ref_fname)\n",
        "except ValueError:\n",
        "    raise ValueError(f\"File {ref_fname} not found in CelebA dataset!\")\n",
        "\n",
        "ref_identity = int(ds.identity[idx])\n",
        "print(f\"🔎 Reference file {ref_fname} belongs to identity {ref_identity}\")"
      ],
      "metadata": {
        "id": "01G5lqIBK_TW"
      },
      "execution_count": null,
      "outputs": []
    },
    {
      "cell_type": "code",
      "source": [
        "# --- Step 3: Copy all images of that identity ---\n",
        "out_dir = f\"/content/celebrity_{ref_identity}_images\"\n",
        "os.makedirs(out_dir, exist_ok=True)\n",
        "\n",
        "count = 0\n",
        "for i in tqdm(range(len(ds)), desc=f\"Copying identity {ref_identity}\"):\n",
        "    if int(ds.identity[i]) == ref_identity:\n",
        "        src = os.path.join(img_dir, ds.filename[i])\n",
        "        if os.path.isfile(src):\n",
        "            shutil.copy2(src, out_dir)\n",
        "            count += 1\n",
        "\n",
        "print(f\"✅ Copied {count} images for identity {ref_identity} to {out_dir}\")"
      ],
      "metadata": {
        "id": "hI3hPWyxLB0-"
      },
      "execution_count": null,
      "outputs": []
    },
    {
      "cell_type": "code",
      "source": [
        "# --- Step 4: Zip and download ---\n",
        "zip_filename = f\"celebrity_{ref_identity}_images.zip\"\n",
        "shutil.make_archive(zip_filename.replace(\".zip\", \"\"), \"zip\", out_dir)\n",
        "files.download(zip_filename)"
      ],
      "metadata": {
        "id": "F0LjubNnLEmH"
      },
      "execution_count": null,
      "outputs": []
    }
  ]
}